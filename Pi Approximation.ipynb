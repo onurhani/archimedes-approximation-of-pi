{
 "cells": [
  {
   "cell_type": "code",
   "execution_count": 1,
   "metadata": {},
   "outputs": [],
   "source": [
    "import math"
   ]
  },
  {
   "cell_type": "code",
   "execution_count": 107,
   "metadata": {},
   "outputs": [
    {
     "name": "stdout",
     "output_type": "stream",
     "text": [
      "3.0\n",
      "       1 iterations 3.0000000000 error -0.1415926536\n",
      "1.55291427062\n",
      "       2 iterations 1.5529142706 error -1.5886783830\n",
      "1.09773455188\n",
      "       3 iterations 1.0977345519 error -2.0438581017\n"
     ]
    }
   ],
   "source": [
    "def pi(n):\n",
    "    \"\"\"\n",
    "l_s: square of side lenght of the polygon\n",
    "s: number of sides\n",
    "p: approximated perimeter\n",
    "    \"\"\"\n",
    "    l_s = 1.0000\n",
    "    s = 6.0000\n",
    "\n",
    "    for i in range(n):\n",
    "        a = math.sqrt(1 - l_s / 4)\n",
    "        b = 1 - a\n",
    "        p = s * l_s \n",
    "        l_s = math.sqrt(b**2 + l_s / 4)\n",
    "    return p / 2\n",
    "\n",
    "\n",
    "def main():\n",
    "    \"\"\"\n",
    "    Try the series\n",
    "    \"\"\"\n",
    "    for n in range(1,4):\n",
    "\n",
    "        result = pi(n)\n",
    "        error = result - math.pi\n",
    "        print result\n",
    "        print(\"%8d iterations %.10f error %.10f\" % (n, result, error))\n",
    "\n",
    "if __name__ == \"__main__\":\n",
    "    main()"
   ]
  }
 ],
 "metadata": {
  "kernelspec": {
   "display_name": "Python 2",
   "language": "python",
   "name": "python2"
  },
  "language_info": {
   "codemirror_mode": {
    "name": "ipython",
    "version": 2
   },
   "file_extension": ".py",
   "mimetype": "text/x-python",
   "name": "python",
   "nbconvert_exporter": "python",
   "pygments_lexer": "ipython2",
   "version": "2.7.14"
  }
 },
 "nbformat": 4,
 "nbformat_minor": 2
}
